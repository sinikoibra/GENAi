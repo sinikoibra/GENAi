{
  "nbformat": 4,
  "nbformat_minor": 0,
  "metadata": {
    "colab": {
      "provenance": [],
      "collapsed_sections": [
        "g1k1RhJDwtoJ"
      ],
      "authorship_tag": "ABX9TyO2dtV8nSgVQml1gtwXVfx5",
      "include_colab_link": true
    },
    "kernelspec": {
      "name": "python3",
      "display_name": "Python 3"
    },
    "language_info": {
      "name": "python"
    }
  },
  "cells": [
    {
      "cell_type": "markdown",
      "metadata": {
        "id": "view-in-github",
        "colab_type": "text"
      },
      "source": [
        "<a href=\"https://colab.research.google.com/github/sinikoibra/GENAi/blob/main/Prompt_engg_web_scrp.ipynb\" target=\"_parent\"><img src=\"https://colab.research.google.com/assets/colab-badge.svg\" alt=\"Open In Colab\"/></a>"
      ]
    },
    {
      "cell_type": "code",
      "source": [
        "#Libraries to install\n",
        "!pip install -q langchain\n",
        "!pip install -q langchain-openai\n",
        "!pip install -q faiss-cpu"
      ],
      "metadata": {
        "id": "NtXKXTLLid-3",
        "colab": {
          "base_uri": "https://localhost:8080/"
        },
        "outputId": "7dab3274-c777-4599-d5ce-c5f5c410d8f0"
      },
      "execution_count": 17,
      "outputs": [
        {
          "output_type": "stream",
          "name": "stdout",
          "text": [
            "\u001b[2K     \u001b[90m━━━━━━━━━━━━━━━━━━━━━━━━━━━━━━━━━━━━━━━━\u001b[0m \u001b[32m817.7/817.7 kB\u001b[0m \u001b[31m14.6 MB/s\u001b[0m eta \u001b[36m0:00:00\u001b[0m\n",
            "\u001b[2K     \u001b[90m━━━━━━━━━━━━━━━━━━━━━━━━━━━━━━━━━━━━━━━━\u001b[0m \u001b[32m1.9/1.9 MB\u001b[0m \u001b[31m42.4 MB/s\u001b[0m eta \u001b[36m0:00:00\u001b[0m\n",
            "\u001b[2K     \u001b[90m━━━━━━━━━━━━━━━━━━━━━━━━━━━━━━━━━━━━━━━━\u001b[0m \u001b[32m291.3/291.3 kB\u001b[0m \u001b[31m22.9 MB/s\u001b[0m eta \u001b[36m0:00:00\u001b[0m\n",
            "\u001b[2K     \u001b[90m━━━━━━━━━━━━━━━━━━━━━━━━━━━━━━━━━━━━━━━━\u001b[0m \u001b[32m115.2/115.2 kB\u001b[0m \u001b[31m11.1 MB/s\u001b[0m eta \u001b[36m0:00:00\u001b[0m\n",
            "\u001b[2K     \u001b[90m━━━━━━━━━━━━━━━━━━━━━━━━━━━━━━━━━━━━━━━━\u001b[0m \u001b[32m49.4/49.4 kB\u001b[0m \u001b[31m5.2 MB/s\u001b[0m eta \u001b[36m0:00:00\u001b[0m\n",
            "\u001b[2K     \u001b[90m━━━━━━━━━━━━━━━━━━━━━━━━━━━━━━━━━━━━━━━━\u001b[0m \u001b[32m53.0/53.0 kB\u001b[0m \u001b[31m5.0 MB/s\u001b[0m eta \u001b[36m0:00:00\u001b[0m\n",
            "\u001b[2K     \u001b[90m━━━━━━━━━━━━━━━━━━━━━━━━━━━━━━━━━━━━━━━━\u001b[0m \u001b[32m141.1/141.1 kB\u001b[0m \u001b[31m14.9 MB/s\u001b[0m eta \u001b[36m0:00:00\u001b[0m\n",
            "\u001b[2K     \u001b[90m━━━━━━━━━━━━━━━━━━━━━━━━━━━━━━━━━━━━━━━━\u001b[0m \u001b[32m311.2/311.2 kB\u001b[0m \u001b[31m11.0 MB/s\u001b[0m eta \u001b[36m0:00:00\u001b[0m\n",
            "\u001b[2K     \u001b[90m━━━━━━━━━━━━━━━━━━━━━━━━━━━━━━━━━━━━━━━━\u001b[0m \u001b[32m1.8/1.8 MB\u001b[0m \u001b[31m58.1 MB/s\u001b[0m eta \u001b[36m0:00:00\u001b[0m\n",
            "\u001b[2K     \u001b[90m━━━━━━━━━━━━━━━━━━━━━━━━━━━━━━━━━━━━━━━━\u001b[0m \u001b[32m75.6/75.6 kB\u001b[0m \u001b[31m8.5 MB/s\u001b[0m eta \u001b[36m0:00:00\u001b[0m\n",
            "\u001b[2K     \u001b[90m━━━━━━━━━━━━━━━━━━━━━━━━━━━━━━━━━━━━━━━━\u001b[0m \u001b[32m77.9/77.9 kB\u001b[0m \u001b[31m8.2 MB/s\u001b[0m eta \u001b[36m0:00:00\u001b[0m\n",
            "\u001b[2K     \u001b[90m━━━━━━━━━━━━━━━━━━━━━━━━━━━━━━━━━━━━━━━━\u001b[0m \u001b[32m58.3/58.3 kB\u001b[0m \u001b[31m5.2 MB/s\u001b[0m eta \u001b[36m0:00:00\u001b[0m\n",
            "\u001b[2K     \u001b[90m━━━━━━━━━━━━━━━━━━━━━━━━━━━━━━━━━━━━━━━━\u001b[0m \u001b[32m27.0/27.0 MB\u001b[0m \u001b[31m31.2 MB/s\u001b[0m eta \u001b[36m0:00:00\u001b[0m\n",
            "\u001b[?25h"
          ]
        }
      ]
    },
    {
      "cell_type": "code",
      "execution_count": 18,
      "metadata": {
        "colab": {
          "base_uri": "https://localhost:8080/"
        },
        "id": "X-d-mTzrZVI5",
        "outputId": "ac853033-d0ae-4857-c7a2-277f2775605b"
      },
      "outputs": [
        {
          "output_type": "stream",
          "name": "stderr",
          "text": [
            "Fetching pages: 100%|##########| 1/1 [00:01<00:00,  1.55s/it]\n"
          ]
        }
      ],
      "source": [
        "tst_url =['https://www.paisabazaar.com/sbi-bank/sbi-elite-credit-card/']\n",
        "from langchain_community.document_loaders import AsyncHtmlLoader#,AsyncChromiumLoader\n",
        "from langchain_community.document_transformers import BeautifulSoupTransformer\n",
        "\n",
        "# AsyncHtmlLoader used for concurrently loading HTML content from multiple URL\n",
        "loader = AsyncHtmlLoader(tst_url)\n",
        "docs = loader.load()\n",
        "\n",
        "# We will use BeautifulSoupTransformer and specify which HTML tags to extract from the documents as we only need text from the HTML elements.\n",
        "bs_transformer = BeautifulSoupTransformer()\n",
        "docs_transformed = bs_transformer.transform_documents(\n",
        "    docs, tags_to_extract=[\"span\",\"p\", \"li\", \"div\"]\n",
        ")"
      ]
    },
    {
      "cell_type": "code",
      "source": [
        "#building the model\n",
        "from langchain_openai import ChatOpenAI\n",
        "llm = ChatOpenAI(openai_api_key=\"fill your Open AI API key\",model=\"gpt-3.5-turbo\",temperature=0.1)"
      ],
      "metadata": {
        "id": "C_BbPFivaKl9"
      },
      "execution_count": 19,
      "outputs": []
    },
    {
      "cell_type": "markdown",
      "source": [
        "Zero shot prompt(No Examples for LLM to refer to) + Simple prompt"
      ],
      "metadata": {
        "id": "c_udUFmukjbH"
      }
    },
    {
      "cell_type": "code",
      "source": [
        "#We will use the PromptTemplate class from lanchain to build our prompt\n",
        "from langchain.prompts.prompt import PromptTemplate\n",
        "prompt_zer_sht=PromptTemplate(\n",
        "        input_variables=[\"context\", \"question\"],\n",
        "        template = \"\"\"Answer the following question based only on the provided context:\n",
        "\n",
        "        <context>\n",
        "        {context}\n",
        "        </context>\n",
        "\n",
        "        Question: {question}\\n\n",
        "        Answer:\"\"\"\n",
        "    )"
      ],
      "metadata": {
        "id": "iupMEeB5lAAV"
      },
      "execution_count": null,
      "outputs": []
    },
    {
      "cell_type": "code",
      "source": [
        "#Run this block to see the final prompt that will be given to the LLM;question & context are the input variables that were given in the prompt template\n",
        "prompt_zer_sht.format(\n",
        "    question=\"Give a list of all the reward categories,corresponding points and required details for each category, also include the various benefits and corresponding details and include the fees from the given context\",\n",
        "    context=docs_transformed)"
      ],
      "metadata": {
        "id": "gJu5y1D8nllO"
      },
      "execution_count": null,
      "outputs": []
    },
    {
      "cell_type": "code",
      "source": [
        "#this is where we are building the chain i.e the output of current function is the input of next function.\n",
        "chain_zer_sht=prompt_zer_sht|llm"
      ],
      "metadata": {
        "id": "ltwWBEbKo52J"
      },
      "execution_count": null,
      "outputs": []
    },
    {
      "cell_type": "code",
      "source": [
        "simple_question=\"\"\"Give a list of all the reward categories,corresponding points and required details for each category,\n",
        "also include the various benefits and corresponding details and include the fees from the given context\"\"\""
      ],
      "metadata": {
        "id": "OQuM5EZH24ij"
      },
      "execution_count": null,
      "outputs": []
    },
    {
      "cell_type": "code",
      "source": [
        "output_zer_sht_simp=chain_zer_sht.invoke({\"question\":simple_question,\n",
        "              \"context\":docs_transformed})\n",
        "\n",
        "print(output_zer_sht_simp.content)"
      ],
      "metadata": {
        "colab": {
          "base_uri": "https://localhost:8080/"
        },
        "id": "160tj8rgo9mg",
        "outputId": "e2cd913c-4d15-42fa-b2e3-8456cc958fc2"
      },
      "execution_count": null,
      "outputs": [
        {
          "output_type": "stream",
          "name": "stdout",
          "text": [
            "Reward Categories and Points:\n",
            "1. Dining, Departmental stores, and Grocery Spends - 5X Reward Points\n",
            "2. All other spends except fuel - 2 Reward Points per Rs. 100\n",
            "3. International transactions - 2 Reward Points per Rs. 100\n",
            "\n",
            "Milestone Rewards:\n",
            "- 10,000 bonus rewards each on spending Rs. 3 Lakh and Rs. 4 Lakh in a year\n",
            "- 15,000 bonus reward points on spending Rs. 5 Lakh in a year\n",
            "- Additional 15,000 rewards on reaching annual spends of Rs. 8 Lakh\n",
            "\n",
            "Benefits:\n",
            "1. Welcome e-gift voucher worth Rs. 5,000\n",
            "2. Free movie tickets worth Rs. 6,000 every year\n",
            "3. Club Vistara Silver Membership\n",
            "4. Trident Red Tier Membership\n",
            "5. Dedicated assistance on Flower Delivery, Gift Delivery, Online Doctor Consultation\n",
            "6. Low Foreign Currency Mark-up Charge of 1.99% on International usage\n",
            "7. 1% fuel surcharge waiver on transactions between Rs. 500 to Rs. 4,000 at any petrol pump\n",
            "8. Complimentary credit card fraud liability cover of Rs. 1 Lakh\n",
            "\n",
            "Fees:\n",
            "- Annual Fee: Rs. 4,999\n",
            "- Renewal Fee: Rs. 4,999 (reversed on annual spends of Rs. 10 Lakh)\n"
          ]
        }
      ]
    },
    {
      "cell_type": "markdown",
      "source": [
        "Zero shot prompt(No Examples for LLM to refer to) + detailed prompt"
      ],
      "metadata": {
        "id": "c6ssQeFms8FG"
      }
    },
    {
      "cell_type": "code",
      "source": [
        "detailed_question=\"\"\"\n",
        "You're tasked with building a comprehensive database of credit card rewards. Your goal is to extract detailed information on SBI Elite Credit Card, including(if available) but not limited to:\n",
        "Credit Card Name: Extract the name of each credit card.\n",
        "Reward Categories: Identify the categories for which rewards are offered (e.g., dining, travel, groceries,).\n",
        "Reward Points for Categories: Collect data on the number of reward points offered per tansaction amt for each category.\n",
        "Reward points Terms and conditions:Gather specifics about the reward points system, including redemption options, point expiration policies, points cap.\n",
        "Benefits Categories: Identify the categories for which benefits associated with each credit card (travel insurance, airport lounge access, concierge services, milestone benefits).\n",
        "Details about Benefits: Provide in-depth information about each benefit, including coverage limits, eligibility criteria, and any additional fees, discounts, bonus points, voucher, airport lounge access.\n",
        "Fees detail: Gather the joining fee,renewal fee,minimum spending for renewal fee waiveoff.\n",
        "Your task is to compile this information into a structured dataset for analysis and comparison purposes. Be thorough in your extraction, ensuring accuracy and completeness of the data.Only use the below provided context for anwering the above question, incase you don't find certain answer don't make answers of your own.\n",
        "\"\"\""
      ],
      "metadata": {
        "id": "1NOiV8yUpS9h"
      },
      "execution_count": 20,
      "outputs": []
    },
    {
      "cell_type": "code",
      "source": [
        "output_zer_sht_dtail=chain_zer_sht.invoke({\"question\":detailed_question,\n",
        "              \"context\":docs_transformed})\n",
        "print(output_zer_sht_dtail.content)"
      ],
      "metadata": {
        "colab": {
          "base_uri": "https://localhost:8080/"
        },
        "id": "Hp80LvSvqaqH",
        "outputId": "630e981c-5afb-43a1-c5f1-6d8f5bdc94ed"
      },
      "execution_count": null,
      "outputs": [
        {
          "output_type": "stream",
          "name": "stdout",
          "text": [
            "Credit Card Name: SBI Elite Credit Card\n",
            "\n",
            "Reward Categories: Dining, Departmental stores, Grocery Spends, International transactions\n",
            "\n",
            "Reward Points for Categories:\n",
            "- 5X Reward Points on Dining, Departmental stores, and Grocery Spends\n",
            "- 2 Reward Points per Rs. 100 on all other spends, except fuel\n",
            "- 2 Reward Points on every Rs.100 spent on International transactions\n",
            "\n",
            "Reward points Terms and conditions:\n",
            "- 4 Reward Points = Rupee 1\n",
            "- Milestone Rewards: Up to 50,000 Bonus Reward Points worth Rs. 12,500 in a year\n",
            "\n",
            "Benefits Categories: Rewards, Travel, Dining, Movies, Lounge Access, Club Vistara Membership, Trident Privilege Membership\n",
            "\n",
            "Details about Benefits:\n",
            "- Welcome e-gift voucher worth Rs. 5,000\n",
            "- Free movie tickets worth Rs. 6,000 every year\n",
            "- Club Vistara Silver Membership\n",
            "- Trident Red Tier Membership\n",
            "- Dedicated assistance on Flower Delivery, Gift Delivery, Online Doctor Consultation\n",
            "- Low Foreign Currency Mark-up Charge of 1.99% on International usage\n",
            "- 1% fuel surcharge waiver\n",
            "- Complimentary credit card fraud liability cover of Rs. 1 Lakh\n",
            "\n",
            "Fees detail:\n",
            "- Joining Fee: Rs. 4,999\n",
            "- Renewal Fee: Rs. 4,999 (reversed on annual spends of Rs. 10 Lakh)\n"
          ]
        }
      ]
    },
    {
      "cell_type": "code",
      "source": [
        "examples=[\n",
        "    {\n",
        "\"context\": \"\"\"Key Highlights of SBI Prime Credit Card\n",
        "Best Suited or\tTravel, shopping & rewards\n",
        "Joining Fee\tRs. 2,999\n",
        "Annual Fee\tRs. 2,999 (Waived off on spending Rs. 3 lakh in a year)\n",
        "Welcome Benefit\tE-gift vouchers worth Rs. 3,000 from top brands\n",
        "Best Feature\t10 reward points for every Rs. 100 spent on dining, groceries, departmental stores and movies\n",
        "SBI Prime Credit Card lets you earn benefits on multiple categories, including dining, grocery, travel, golf, fuel and more. Below-mentioned are some of the major SBI Prime Credit\n",
        "\n",
        "Card benefits:\n",
        "Welcome Benefits worth Rs. 3,000\n",
        "This credit card offers e-gift vouchers worth Rs. 3,000 of top brands as per the below details:\n",
        "\n",
        "Bata/ Hush Puppies, Pantaloons, Shoppers Stop: Voucher can be redeemed by showing the code at the respective brand store\n",
        "Yatra, Shoppers Stop: Voucher can be redeemed online at the time of purchase\n",
        "Aditya Birla Retail Voucher: Redeemable at select brands, including Louis Philippe, Van Heusen, Allen Solly, Peter England, Planet Fashion, and Simon Carter\n",
        "\n",
        "You can earn up to 20 reward points per transaction, which makes it one of the best rewards credit cards in the market. You can also pay your outstanding card bills via accumulated reward points. Here are the details:\n",
        "\n",
        "20 reward points for every Rs. 100 spent on your birthday*\n",
        "10 reward points for every Rs. 100 spent on dining, groceries, departmental stores and movies\n",
        "2 reward points for every Rs. 100 spent on all other retail purchases, except for fuel\n",
        "*Reward points earned on birthday spends (one day before, on, and one day after) are capped at 2,000 reward points per calendar year.\n",
        "4 reward points = Re. 1 | 1 reward point = Re. 0.25\n",
        "\n",
        "Multiple Milestone Benefits\n",
        "On achieving the spending milestones, you can get complimentary vouchers and a renewal fee waiver via this credit card. Below mentioned are the details:\n",
        "\n",
        "Pizza-hut gift voucher worth Rs. 1,000 on spending Rs. 50,000 in a calendar quarter\n",
        "Renewal fee waiver on annual spends of Rs. 3 lakh\n",
        "Yatra/ Pantaloons gift voucher worth Rs. 7,000 on achieving annual spends of Rs. 5 lakh\n",
        "\n",
        "Travel Benefits\n",
        "This credit card also offers complimentary Trident Privilege Red Tier Membership, Club Vistara Membership and international as well as domestic lounge visits for primary cardholders. With these memberships, you can avail exclusive discount and privileges as per the below details:\n",
        "\n",
        "Complimentary Trident Privilege Red Tier Membership\n",
        "\n",
        "1,000 welcome points on registration\n",
        "1,500 bonus points on your first stay\n",
        "Extra 1,000 hotel credit on an extended night stay (use promo code: SBITH)\n",
        "10% instant discount on bookings via hotel website\n",
        "10 points on every Rs. 100 spent during your stay at participating hotels\n",
        "\n",
        "Complimentary Club Vistara Membership\n",
        "Complimentary Club Vistara Silver Membership\n",
        "1 upgrade voucher\n",
        "9 Club Vistara (CV) Points for every Rs. 100 spent on Vistara flights\n",
        "\n",
        "Complimentary Lounge Access\n",
        "4 complimentary lounge visits per calendar year to international priority pass lounges, outside India (Max. 2 visits in a quarter)\n",
        "8 complimentary lounge visits per calendar year to domestic lounges in India (Max. 2 visits per quarter)\n",
        "\n",
        "Apart from the benefits mentioned above, this credit card also offers a fuel surcharge waiver and exclusive privileges for Visa cardholders. Below mentioned are some of the other SBI Card Prime benefits:\n",
        "\n",
        "1% fuel surcharge waiver on your transactions between Rs. 500 and Rs. 4,000 across all petrol pumps in India\n",
        "Up to 10% off on Hertz car rental\n",
        "Up to 35% discount on Avis Car rentals\n",
        "Exclusive benefits across 900 luxury hotels worldwide\n",
        "\n",
        "Joining Fee\tRs. 2,999\n",
        "Annual/ Renewal Fee\tRs. 2,999 (Waived off on spending Rs. 3 lakh in a year)\"\"\",\n",
        "\t\"question\": \"\"\"You're tasked with building a comprehensive database of credit card rewards. Your goal is to extract detailed information on SBI prime credit card, including(if available) but not limited to:\n",
        "Credit Card Name: Extract the name of each credit card.\n",
        "Reward Categories: Identify the categories for which rewards are offered (e.g., dining, travel, groceries,).\n",
        "Reward Points for Categories: Collect data on the number of reward points offered per tansaction amt for each category.\n",
        "Reward points Terms and conditions:Gather specifics about the reward points system, including redemption options, point expiration policies, points cap.\n",
        "Benefits Categories: Identify the categories for which benefits associated with each credit card (travel insurance, airport lounge access, concierge services, milestone benefits).\n",
        "Details about Benefits: Provide in-depth information about each benefit, including coverage limits, eligibility criteria, and any additional fees, discounts, bonus points, voucher.\n",
        "Fees detail: Gather the joining fee,renewal fee and minimum spending for renewal fee waiveoff\n",
        "Your task is to compile this information into a structured dataset for analysis and comparison purposes. Be thorough in your extraction, ensuring accuracy and completeness of the data.Only use the below provided context for anwering the above question, incase you don't find certain answer don't make answers of your own.\"\"\",\n",
        "\t\"answer\": \"\"\"Credit card name:SBI Prime Credit Card\n",
        "Reward Categories:\n",
        "-Dining\n",
        "-groceries\n",
        "-departmental stores\n",
        "-movies\n",
        "-all other retail purchases (excluding fuel)\n",
        "Reward Points for Categories:\n",
        "- 20 reward points for every Rs. 100 spent on birthday\n",
        "- 10 reward points for every Rs. 100 spent on dining, groceries, departmental stores, and movies\n",
        "- 2 reward points for every Rs. 100 spent on all other retail purchases (except fuel)\n",
        "Reward points Terms and conditions:\n",
        "- Point expiration policies: Reward points earned on birthday capped at 2,000 points per calendar year.\n",
        "- 4 reward points = Re. 1 | 1 reward point = Re. 0.25\n",
        "Benefits Categories:\n",
        "-Travel\n",
        "-shopping\n",
        "-Welcome benefits\n",
        "-Milestone Benefits\n",
        "-Other Benefit\n",
        "Details about Benefits:\n",
        "-Milestone Benefits:\n",
        "--Pizza-hut gift voucher on spending Rs. 50,000 in a calendar quarter\n",
        "--Yatra/Pantaloons gift voucher on achieving annual spends of Rs. 5 lakh\n",
        "- Welcome Benefits : e-gift vouchers worth Rs. 3,000 of top brands as per the below details:\n",
        "--Bata/ Hush Puppies, Pantaloons, Shoppers Stop: Voucher can be redeemed by showing the code at the respective brand store\n",
        "--Yatra, Shoppers Stop: Voucher can be redeemed online at the time of purchase\n",
        "--Aditya Birla Retail Voucher: Redeemable at select brands, including Louis Philippe, Van Heusen, Allen Solly, Peter England, Planet Fashion, and Simon Carter\n",
        "- Travel Benefits:\n",
        "--offers complimentary Trident Privilege Red Tier Membership\n",
        "--Club Vistara Membership\n",
        "--International as well as domestic lounge visits for primary cardholders.4 complimentary lounge visits per calendar year to international priority pass lounges, outside India (Max. 2 visits in a quarter),8 complimentary lounge visits per calendar year to domestic lounges in India (Max. 2 visits per quarter)\n",
        "Membership benefits:\n",
        "-Trident Privilege Red Tier Membership:\n",
        "--1,000 welcome points on registration\n",
        "--1,500 bonus points on your first stay\n",
        "--Extra 1,000 hotel credit on an extended night stay (use promo code: SBITH)\n",
        "--10% instant discount on bookings via hotel website\n",
        "--10 points on every Rs. 100 spent during your stay at participating hotels\n",
        "-Complimentary Club Vistara Membership:\n",
        "--Complimentary Club Vistara Silver Membership\n",
        "--1 upgrade voucher\n",
        "--9 Club Vistara (CV) Points for every Rs. 100 spent on Vistara flights\n",
        "-Other Benefits:\n",
        "--Fuel surcharge waiver\n",
        "--exclusive privileges for Visa cardholders, discounts on car rentals\n",
        "Fees:\n",
        "-Joining Fee\tRs. 2,999\n",
        "-Annual/ Renewal Fee\tRs. 2,999 (Waived off on spending Rs. 3 lakh in a year)\"\"\"\n",
        "\t},\n",
        "\t{\n",
        "\t\"context\": \"\"\"Key Highlights of SBI SimplySAVE Credit Card\n",
        "Best Suited For\tBeginners | Rewards on Everyday Expenses\n",
        "Joining Fee\tRs. 499\n",
        "Annual Fee\tRs. 499 (Reversed on spending Rs. 1 lakh in a year)\n",
        "Welcome Benefit\t2,000 bonus reward points on spending Rs. 2,000 within 60 days of card issuance\n",
        "Best Feature\t10X reward points on dining, movies, grocery and departmental store spends\n",
        "Paisabazaar’s Rating\t★★★ (3/5)\n",
        "\n",
        "Up to 10X Reward Points\n",
        "This credit card lets you earn up to 10X reward points on your purchases at selected categories. Below mentioned are the details regarding the same:\n",
        "\n",
        "10 reward points on every Rs. 150 spent on dining, movies, grocery and departmental store purchases\n",
        "1 reward point per Rs. 150 spent on other categories\n",
        "\n",
        "Other SBI SimplySAVE Credit Card Benefits\n",
        "SBI SimplySAVE Credit Card also offers other benefits, such as bonus reward points, fuel surcharge waiver and annual fee waiver. Here are all the details regarding the same:\n",
        "\n",
        "Welcome Benefit: 2,000 reward points on spending Rs. 2,000 within 60 days of card issuance.\n",
        "\n",
        "Fuel Surcharge Waiver: 1% fuel surcharge waiver on your transactions between Rs. 500 to Rs. 3,000 at any petrol pump in India. You can avail a maximum waiver of Rs. 100 per statement cycle.\n",
        "\n",
        "Annual Fee Reversal: Annual membership fee reversal from the second year on spending Rs. 1 lakh in the previous year\"\"\",\n",
        "\"question\": \"\"\"You're tasked with building a comprehensive database of credit card rewards. Your goal is to extract detailed information on SBI SimplySAVE Credit Card, including(if available) but not limited to:\n",
        "Credit Card Name: Extract the name of each credit card.\n",
        "Reward Categories: Identify the categories for which rewards are offered (e.g., dining, travel, groceries,).\n",
        "Reward Points for Categories: Collect data on the number of reward points offered per tansaction amt for each category.\n",
        "Reward points Terms and conditions:Gather specifics about the reward points system, including redemption options, point expiration policies, points cap.\n",
        "Benefits Categories: Identify the categories for which benefits associated with each credit card (travel insurance, airport lounge access, concierge services, milestone benefits).\n",
        "Details about Benefits: Provide in-depth information about each benefit, including coverage limits, eligibility criteria, and any additional fees, discounts, bonus points, voucher.\n",
        "Fees detail: Gather the joining fee,renewal fee and minimum spending for renewal fee waiveoff\n",
        "Your task is to compile this information into a structured dataset for analysis and comparison purposes. Be thorough in your extraction, ensuring accuracy and completeness of the data.Only use the below provided context for anwering the above question, incase you don't find certain answer don't make answers of your own.\"\"\",\n",
        "\"answer\":\"\"\"Credit Card Name: SBI SimplySAVE Credit Card\n",
        "Reward Categories: Dining, groceries, departmental stores, movies, all other retail purchases (excluding fuel)\n",
        "Reward Points for Categories:\n",
        "- 10 reward points for every Rs. 100 spent on dining, groceries, departmental stores, and movies\n",
        "- 1 reward point per Rs. 150 spent on all other retail purchases (excluding fuel)\n",
        "Benefits Categories:\n",
        "-Welcome Benefit\n",
        "-Fuel Surcharge Waiver\n",
        "Details of Benefits:\n",
        "-Welcome Benefit: 2,000 reward points on spending Rs. 2,000 within 60 days of card issuance.\n",
        "-Fuel Surcharge Waiver: 1% fuel surcharge waiver on your transactions between Rs. 500 to Rs. 3,000 at any petrol pump in India. You can avail a maximum waiver of Rs. 100 per statement cycle.\n",
        "Fees\n",
        "-Joining Fee Rs. 499\n",
        "-Annual/ Renewal Fee Rs. 499 (Waived off on spending Rs. 1 lakh in a year)\"\"\"\n",
        "\t}\n",
        "\t]"
      ],
      "metadata": {
        "id": "9XcUp9w9sYU_"
      },
      "execution_count": 23,
      "outputs": []
    },
    {
      "cell_type": "markdown",
      "source": [
        "Few Shot Prompt(Examples for LLM to refer to) + simple prompt"
      ],
      "metadata": {
        "id": "3lRzDWCXsH42"
      }
    },
    {
      "cell_type": "code",
      "source": [
        "#We will use the PromptTemplate class from lanchain to build our example prompt;The examples need to be sent into the LLM in structured form\n",
        "from langchain.prompts.prompt import PromptTemplate\n",
        "example_prompt=PromptTemplate(\n",
        "        input_variables=[\"context\", \"question\",\"answer\"],\n",
        "        template = \"\"\"Answer the following question based only on the provided context:\n",
        "\n",
        "        <context>\n",
        "        {context}\n",
        "        </context>\n",
        "\n",
        "        Question: {question}\\n\n",
        "        Answer:{answer}\n",
        "        \"\"\"\n",
        "    )"
      ],
      "metadata": {
        "id": "S2ONgwaQ1rD2"
      },
      "execution_count": 21,
      "outputs": []
    },
    {
      "cell_type": "code",
      "source": [
        "from langchain.prompts.few_shot import FewShotPromptTemplate\n",
        "\n",
        "few_sht_simp_prompt = FewShotPromptTemplate(\n",
        "    examples=examples,\n",
        "    example_prompt=example_prompt,\n",
        "    prefix=\"\"\"You're tasked with building a comprehensive database of credit card rewards.\n",
        "    Your goal is to extract detailed information only from the given context and if you don't find certain answer don't make answers of your own.\n",
        "    Below are some examples for your reference try to give the answers similar to the hierarchy in the examples\"\"\",\n",
        "    suffix=\"\"\"\n",
        "            Question: {question}\\n\n",
        "                <context>\n",
        "                {context}\n",
        "                </context>\\n\n",
        "\n",
        "\n",
        "                Answer:\n",
        "        \"\"\",\n",
        "    input_variables=[\"question\",\"context\"],\n",
        "    example_separator=\"\\n\\n\"\n",
        ")"
      ],
      "metadata": {
        "id": "NbsY9ATjw1jq"
      },
      "execution_count": 24,
      "outputs": []
    },
    {
      "cell_type": "code",
      "source": [
        "chain_few_sht=few_sht_simp_prompt|llm"
      ],
      "metadata": {
        "id": "2skvIF4337gx"
      },
      "execution_count": null,
      "outputs": []
    },
    {
      "cell_type": "code",
      "source": [
        "output_few_sht_simp=chain_few_sht.invoke({\"question\":simple_question,\n",
        "              \"context\":docs_transformed})\n",
        "\n",
        "print(output_few_sht_simp.content)"
      ],
      "metadata": {
        "colab": {
          "base_uri": "https://localhost:8080/"
        },
        "id": "h2Z0fWLb4IES",
        "outputId": "4fa5277c-bb30-416f-da8e-928e69aeb33c"
      },
      "execution_count": null,
      "outputs": [
        {
          "output_type": "stream",
          "name": "stdout",
          "text": [
            "Reward Categories:\n",
            "- Dining\n",
            "- Departmental stores\n",
            "- Grocery\n",
            "- International transactions\n",
            "\n",
            "Reward Points for Categories:\n",
            "- 5X Reward Points on Dining, Departmental stores, and Grocery Spends\n",
            "- 2 Reward Points per Rs. 100 on all other spends (except fuel)\n",
            "- 2 Reward Points on every Rs. 100 spent on International transactions\n",
            "\n",
            "Reward Points Terms and Conditions:\n",
            "- 4 Reward Points = Re. 1\n",
            "- Milestone Rewards:\n",
            "  - 10,000 bonus rewards each on spending Rs. 3 Lakh and Rs. 4 Lakh in a year\n",
            "  - 15,000 bonus reward points on spending Rs. 5 Lakh in a year\n",
            "  - Additional 15,000 rewards on reaching annual spends of Rs. 8 Lakh\n",
            "\n",
            "Benefits Categories:\n",
            "- Welcome Benefit\n",
            "- Milestone Rewards\n",
            "- Free movie tickets\n",
            "- Exclusive Travel Benefits\n",
            "- Airport Lounge Access\n",
            "- Other Benefits\n",
            "\n",
            "Details of Benefits:\n",
            "- Welcome Benefit: Rs. 5,000 worth welcome gift vouchers\n",
            "- Free movie tickets worth Rs. 6,000 every year\n",
            "- Exclusive Travel Benefits:\n",
            "  - Club Vistara Silver Membership\n",
            "  - Trident Red Tier Membership\n",
            "- Airport Lounge Access:\n",
            "  - 2 complimentary Domestic Airport Lounge visits every quarter in India\n",
            "  - 6 complimentary Airport Lounge visits per calendar year outside India\n",
            "- Other Benefits:\n",
            "  - Dedicated assistance on Flower Delivery, Gift Delivery, Online Doctor Consultation\n",
            "  - Low Foreign Currency Mark-up Charge of 1.99% on International usage\n",
            "  - 1% fuel surcharge waiver on transactions between Rs. 500 to Rs. 4,000 at any petrol pump\n",
            "\n",
            "Fees:\n",
            "- Joining Fee: Rs. 4,999\n",
            "- Annual Fee: Rs. 4,999\n",
            "- Renewal Fee: Rs. 4,999 (reversed on annual spends of Rs. 10 Lakh)\n"
          ]
        }
      ]
    },
    {
      "cell_type": "markdown",
      "source": [
        "Few Shot Prompt + detailed prompt"
      ],
      "metadata": {
        "id": "CWCUfza12-_q"
      }
    },
    {
      "cell_type": "code",
      "source": [
        "output_few_sht_dtail=chain_few_sht.invoke({\"question\":detailed_question,\n",
        "              \"context\":docs_transformed})\n",
        "print(output_few_sht_dtail.content)"
      ],
      "metadata": {
        "colab": {
          "base_uri": "https://localhost:8080/"
        },
        "id": "pZQGzEVG4t5B",
        "outputId": "060b2cdb-9aee-4d7c-d4ed-7c0060089461"
      },
      "execution_count": null,
      "outputs": [
        {
          "output_type": "stream",
          "name": "stdout",
          "text": [
            "Credit Card Name: SBI Elite Credit Card\n",
            "Reward Categories: \n",
            "- Dining\n",
            "- Departmental stores\n",
            "- Grocery\n",
            "- International transactions\n",
            "Reward Points for Categories: \n",
            "- 5X Reward Points on Dining, Departmental stores, and Grocery Spends\n",
            "- 2 Reward Points per Rs. 100 on all other spends (excluding fuel)\n",
            "- 2 Reward Points on every Rs. 100 spent on International transactions\n",
            "Reward points Terms and conditions:\n",
            "- 4 Reward Points = Re. 1\n",
            "- Point redemption options: Online, partner merchant store, or via phone\n",
            "- Points can be redeemed in multiples of 2000 points\n",
            "Benefits Categories: \n",
            "- Welcome Benefit\n",
            "- Milestone Rewards\n",
            "- Free movie tickets\n",
            "- Exclusive Travel Benefits\n",
            "- Airport Lounge Access\n",
            "- Other Benefits\n",
            "Details about Benefits: \n",
            "- Welcome Benefit: Rs. 5,000 worth welcome gift vouchers\n",
            "- Milestone Rewards: Up to 50,000 Bonus Reward Points annually\n",
            "- Free movie tickets worth Rs. 6,000 every year\n",
            "- Exclusive Travel Benefits: Club Vistara and Trident Privilege Membership\n",
            "- Airport Lounge Access: 2 complimentary Domestic Airport Lounge visits every quarter in India, 6 complimentary International Airport Lounge visits per year\n",
            "- Other Benefits: Dedicated assistance services, low foreign currency mark-up charge, fuel surcharge waiver, credit card fraud liability cover\n",
            "Fees detail: \n",
            "- Joining Fee: Rs. 4,999\n",
            "- Annual Fee: Rs. 4,999 (Reversed on annual spends of Rs. 10 Lakh)\n"
          ]
        }
      ]
    },
    {
      "cell_type": "markdown",
      "source": [
        "# Retrieval\n",
        "Just like humans, too much information can overwhelm the LLM (Language Model), so we'll simplify it by breaking it into small pieces. Then, we'll look for the most likely set of pieces that contain the answer and send them as context to the LLM."
      ],
      "metadata": {
        "id": "VRozlN6p78oG"
      }
    },
    {
      "cell_type": "code",
      "source": [
        "#We are splitting the files on the basis of\n",
        "from langchain_text_splitters import RecursiveCharacterTextSplitter\n",
        "text_splitter = RecursiveCharacterTextSplitter(\n",
        "    chunk_size=1000,\n",
        "    chunk_overlap=200,\n",
        "    length_function=len,\n",
        "    is_separator_regex=False,\n",
        ")\n",
        "split_docs=text_splitter.split_documents(docs_transformed)"
      ],
      "metadata": {
        "id": "uNdsTIsyIgiD"
      },
      "execution_count": 25,
      "outputs": []
    },
    {
      "cell_type": "code",
      "source": [
        "#Then we will convert the split files into vectors\n",
        "from langchain_openai import ChatOpenAI\n",
        "from langchain_openai import OpenAIEmbeddings\n",
        "embeddings = OpenAIEmbeddings(openai_api_key=\"fill your Open AI API key\",model=\"text-embedding-3-large\")"
      ],
      "metadata": {
        "id": "0B0NjAXNJucB"
      },
      "execution_count": 26,
      "outputs": []
    },
    {
      "cell_type": "code",
      "source": [
        " #We ingest documents into the vectorstore and create FAISS index\n",
        "from langchain_community.vectorstores import FAISS\n",
        "db_context = FAISS.from_documents(split_docs, embeddings)"
      ],
      "metadata": {
        "id": "RndMrI6zbEcG"
      },
      "execution_count": 27,
      "outputs": []
    },
    {
      "cell_type": "markdown",
      "source": [
        "We will use two ways to deal with the split files\n",
        "\n",
        "---\n",
        "\n",
        "\n",
        "Type 1: Stuff\n",
        "\n",
        "Type 2: Refine\n",
        "\n",
        "\n",
        "Let say we took 5 files out of the splited file set\n",
        "\n",
        "-> Stuff type: we combine all 5 files and build one context file and feed it into the LLM\n",
        "\n",
        "-> Refine type: we feed the files one by one and ask the LLM to refine the anwers(if required) on the basis of new information in the given context\n"
      ],
      "metadata": {
        "id": "XmahQPw3l942"
      }
    },
    {
      "cell_type": "code",
      "source": [
        "#STUFF CHAIN TYPE\n",
        "\n",
        "from langchain.prompts.few_shot import FewShotPromptTemplate\n",
        "\n",
        "# below prompt is for stuff chain type hence it should mandatorily include following 2 input variables \"summaries\" and \"question\".\n",
        "stuff_prompt = FewShotPromptTemplate(\n",
        "    examples=examples,\n",
        "    example_prompt=example_prompt,\n",
        "    prefix=\"\"\"You're tasked with building a comprehensive database of credit card rewards.\n",
        "    Your goal is to extract detailed information only from the given context and if you don't find certain answer don't make answers of your own.\n",
        "    Below are some examples for your reference try to give the answers similar to the hierarchy in the examples\"\"\",\n",
        "    suffix=\"\"\"\n",
        "            Question: {question}\\n\n",
        "                <context>\n",
        "                {summaries}\n",
        "                </context>\\n\n",
        "\n",
        "\n",
        "                Answer:\n",
        "        \"\"\",\n",
        "    input_variables=[\"question\",\"summaries\"],\n",
        "    example_separator=\"\\n\\n\"\n",
        ")"
      ],
      "metadata": {
        "id": "qdaAhqjJtTeh"
      },
      "execution_count": 28,
      "outputs": []
    },
    {
      "cell_type": "code",
      "source": [
        "from langchain.chains import RetrievalQAWithSourcesChain\n",
        "\n",
        "#instead of building the chain manually we will use one of the prebuilt chains from langchain\n",
        "stuff_chain = RetrievalQAWithSourcesChain.from_chain_type(\n",
        "    llm=llm,\n",
        "    chain_type=\"stuff\",\n",
        "    retriever=db_context.as_retriever(search_kwargs={\"k\":10}),#here the value K will determine within the split files set how many files should be used\n",
        "     chain_type_kwargs={\n",
        "         \"verbose\": False,\n",
        "         \"prompt\": stuff_prompt,\n",
        "\n",
        "     },\n",
        ")"
      ],
      "metadata": {
        "id": "I8_D9IIymLQY"
      },
      "execution_count": 29,
      "outputs": []
    },
    {
      "cell_type": "code",
      "source": [
        "output_stuff_chain=stuff_chain.invoke({\"question\":detailed_question})\n",
        "print(output_stuff_chain[\"answer\"])\n",
        "#output_stuff_chain"
      ],
      "metadata": {
        "colab": {
          "base_uri": "https://localhost:8080/"
        },
        "id": "BD_oF-Gkvcty",
        "outputId": "4f162894-8592-4a28-ffdc-193618e414e9"
      },
      "execution_count": 30,
      "outputs": [
        {
          "output_type": "stream",
          "name": "stdout",
          "text": [
            "Credit Card Name: SBI Elite Credit Card\n",
            "Reward Categories:\n",
            "- Dining\n",
            "- Departmental stores\n",
            "- Grocery\n",
            "- International transactions\n",
            "- All other spends (excluding fuel)\n",
            "Reward Points for Categories:\n",
            "- 5X Reward Points on Dining, Departmental stores, and Grocery Spends\n",
            "- 2 Reward Points per Rs. 100 on all other spends (excluding fuel)\n",
            "- 2 Reward Points on every Rs. 100 spent on International transactions\n",
            "Reward points Terms and conditions:\n",
            "- Points can be redeemed in multiples of 2000 points unless otherwise stated\n",
            "- Point expiration policies not specified\n",
            "- Points cap not specified\n",
            "Benefits Categories:\n",
            "- Welcome Benefit\n",
            "- Fuel Surcharge Waiver\n",
            "- Travel Benefits\n",
            "Details about Benefits:\n",
            "- Welcome Benefit: Rs. 5,000 worth welcome gift vouchers\n",
            "- Fuel Surcharge Waiver: 1% fuel surcharge waiver on transactions between Rs. 500 to Rs. 4,000 at any petrol pump in India\n",
            "- Free movie tickets worth Rs. 6,000 every year\n",
            "- Exclusive Travel Benefits: Club Vistara Silver Membership, including 1 complimentary Upgrade Voucher and 9 Club Vistara Points for every Rs. 100 spent on Vistara Flights\n",
            "Fees detail:\n",
            "- Joining Fee: Rs. 4,999\n",
            "- Annual/ Renewal Fee: Rs. 4,999 (reversed on annual spends of Rs. 10 Lakh)\n"
          ]
        }
      ]
    },
    {
      "cell_type": "code",
      "source": [
        "#REFINE CHAIN TYPE\n",
        "\n",
        "from langchain.prompts.few_shot import FewShotPromptTemplate\n",
        "\n",
        "# in refine chain type we need two types of prompt, the first prompt is question prompt, this is the prompt for the first file, as of now there is no existing answer to refine this will generate the first answer\n",
        "question_prompt = FewShotPromptTemplate(\n",
        "    examples=examples,\n",
        "    example_prompt=example_prompt,\n",
        "    prefix=\"\"\"You're tasked with building a comprehensive database of credit card rewards.\n",
        "    Your goal is to extract detailed information only from the given context and if you don't find certain answer don't make answers of your own.\n",
        "    Below are some examples for your reference try to give the answers similar to the hierarchy in the examples\"\"\",\n",
        "    suffix=\"\"\"\n",
        "            Question: {question}\\n\n",
        "                <context>\n",
        "                {context_str}\n",
        "                </context>\\n\n",
        "\n",
        "\n",
        "                Answer:\n",
        "        \"\"\",\n",
        "    input_variables=[\"question\",\"context_str\"],\n",
        "    example_separator=\"\\n\\n\"\n",
        ")"
      ],
      "metadata": {
        "id": "KiwCuk_5wnKJ"
      },
      "execution_count": null,
      "outputs": []
    },
    {
      "cell_type": "code",
      "source": [
        "#Refine prompt is the 2nd prompt this has \"existing answer\" as an input variable, from here on the answers will be refined on the basis of new context provided to the LLM\n",
        "refine_prompt = FewShotPromptTemplate(\n",
        "    examples=examples,\n",
        "    example_prompt=example_prompt,\n",
        "    prefix=\"\"\"You're tasked with building a comprehensive database of credit card rewards.\n",
        "    Your goal is to extract detailed information only from the given context and if you don't find certain answer don't make answers of your own.\n",
        "    Below are some examples for your reference try to give the answers similar to the hierarchy in the examples\"\"\",\n",
        "    suffix=\"\"\"\n",
        "        The original question is as follows:Question: {question}\\n\n",
        "    We have provided an existing answer, including sources: {existing_answer}\n",
        "    We have the opportunity to refine the existing answer(only if needed) with some more context below.\n",
        "\n",
        "                <context>\n",
        "                {context_str}\n",
        "                </context>\\n\n",
        "    Given the new context, refine the original answer to better answer the question.\n",
        "    If you do update it, please update the sources as well. If the context isn't useful, return the original answer.\n",
        "\n",
        "                Answer:\n",
        "        \"\"\",\n",
        "    input_variables=[\"question\",\"context_str\",\"existing_answer\"],\n",
        "    example_separator=\"\\n\\n\"\n",
        ")"
      ],
      "metadata": {
        "id": "cIBlUQ3Uw1bE"
      },
      "execution_count": null,
      "outputs": []
    },
    {
      "cell_type": "code",
      "source": [
        "Refine_chain = RetrievalQAWithSourcesChain.from_chain_type(\n",
        "    llm=llm,\n",
        "    chain_type=\"refine\",\n",
        "    retriever=db_context.as_retriever(search_kwargs={\"k\":10}),\n",
        "     chain_type_kwargs={\n",
        "         \"verbose\": False,\n",
        "         \"question_prompt\": question_prompt,#both the prompts are given in the arguments\n",
        "         \"refine_prompt\": refine_prompt,\n",
        "\n",
        "     },\n",
        ")"
      ],
      "metadata": {
        "id": "xohTp93UxYF-"
      },
      "execution_count": null,
      "outputs": []
    },
    {
      "cell_type": "code",
      "source": [
        "output_Refine_chain=Refine_chain.invoke({\"question\":detailed_question})\n",
        "print(output_Refine_chain[\"answer\"])"
      ],
      "metadata": {
        "colab": {
          "base_uri": "https://localhost:8080/"
        },
        "id": "IfBDF2dr3JJ2",
        "outputId": "5db5262e-3a6d-4661-b480-d6d7cd46b2e3"
      },
      "execution_count": null,
      "outputs": [
        {
          "output_type": "stream",
          "name": "stdout",
          "text": [
            "Credit Card Name: SBI Elite Credit Card\n",
            "Reward Categories: Dining, departmental stores, groceries, international transactions, hotel bookings, Vistara Airlines tickets\n",
            "Reward Points for Categories: \n",
            "- 5X Reward Points on Dining, Departmental stores, and Grocery Spends\n",
            "- 2 Reward Points per Rs. 100 on all other spends (except fuel)\n",
            "- 2 Reward Points on every Rs. 100 spent on International transactions\n",
            "- 10% discount on participating Trident hotels\n",
            "- 2.25% rewards rate on Vistara Airlines tickets\n",
            "Benefits Categories: Travel insurance, airport lounge access, concierge services, milestone benefits\n",
            "Details about Benefits: \n",
            "- Free movie tickets worth Rs. 6,000 every year: Complimentary movie tickets worth Rs. 6,000 annually, valid for at least 2 tickets per booking with a maximum benefit of Rs. 250 per ticket. Convenience fee applicable.\n",
            "- Exclusive Travel Benefits: Club Vistara Silver Membership with 1 complimentary Upgrade Voucher and 9 Club Vistara Points for every Rs. 100 spent on Vistara Flights\n",
            "Fees detail: \n",
            "- Joining Fee Rs. 4,999 (returned as a Rs. 5,000 welcome gift voucher)\n",
            "- Annual Fee Rs. 4,999\n",
            "- 1% fuel surcharge waiver on transactions between Rs. 500 to Rs. 4,000 at any petrol pump in India (maximum waiver of Rs. 250 per statement cycle)\n",
            "- Complimentary credit card fraud liability cover of Rs. 1 Lakh\n",
            "\n"
          ]
        }
      ]
    },
    {
      "cell_type": "markdown",
      "source": [
        "# Similarity Comparision Using Cosine Similarity"
      ],
      "metadata": {
        "id": "G3LBNfy-QGO0"
      }
    },
    {
      "cell_type": "code",
      "source": [
        "manual_output=\"\"\"\n",
        "Credit Card Name: SBI Elite Credit Card\n",
        "Reward Categories:\n",
        "- Dining\n",
        "- Departmental stores\n",
        "- Grocery\n",
        "- International transactions\n",
        "- All other spends (excluding fuel)\n",
        "Reward Points for Categories:\n",
        "- 5X Reward Points on Dining, Departmental stores, and Grocery Spends\n",
        "- 2 Reward Points per Rs. 100 on all other spends (except fuel)\n",
        "- 2 Reward Points on every Rs.100 spent on International transactions\n",
        "Reward points Terms and conditions:\n",
        "- 4 Reward Points = Rupee 1\n",
        "- Points can be redeemed online, at partner merchant stores, or by calling the SBI Card helpline\n",
        "Benefits Categories:\n",
        "- Welcome Benefit\n",
        "- Milestone Rewards\n",
        "- Club Vistara and Trident Privilege Membership\n",
        "- Airport Lounge Access\n",
        "Details about Benefits:\n",
        "- Welcome Benefit:\n",
        "--Rs. 5,000 worth welcome gift vouchers\n",
        "--choose the brand of your choice from the varied brands that include Hush Puppies/ Bata, Yatra.com, Shoppers Stop and  Pantaloons\n",
        "- Milestone Rewards:\n",
        "--Up to 50,000 Bonus Reward Points worth Rs. 12,500 in a year\n",
        "--10,000 bonus rewards each on spending Rs. 3 Lakh and Rs. 4 Lakh in a year\n",
        "--15,000 bonus reward points on spending Rs. 5 Lakh in a year\n",
        "--Additional 15,000 rewards on reaching annual spends of Rs. 8 Lakh\n",
        "- Club Vistara Silver Membership:\n",
        "--1 complimentary Upgrade Voucher\n",
        "--9 Club Vistara Points for every Rs. 100 spent on Vistara Flights\n",
        "- Trident Red Tier Membership:\n",
        "--1,000 welcome points on registration\n",
        "--10% instant discount on booking through the hotel’s website\n",
        "--10 points per Rs. 100 spent for booking room at participating hotels\n",
        "--1,500 points on your first stay\n",
        "--Additional 1,000 hotel credit on extended night stay (use promo code: SBITH)\n",
        "- Airport Lounge Access:\n",
        "--2 complimentary Domestic Airport Lounge visits every quarter in India\n",
        "--Complimentary membership to the Priority Pass Program worth $99,6 complimentary Airport Lounge visits per calendar year, outside India ( max. 2 visits per quarter)\n",
        "-other Benefit\n",
        "--Dedicated assistance on Flower Delivery, Gift Delivery\n",
        "--Online Doctor Consultation (Concierge services)\n",
        "--Complimentary credit card fraud liability cover of Rs. 1 Lakh\n",
        "--Low Foreign Currency Mark-up Charge of 1.99% on International usage\n",
        "Fees detail:\n",
        "- Joining Fee: Rs. 4,999\n",
        "- Renewal Fee: Rs. 4,999 (reversed on annual spends of Rs. 10 Lakh\n",
        "\"\"\""
      ],
      "metadata": {
        "id": "tl522q_7P8Xk"
      },
      "execution_count": null,
      "outputs": []
    },
    {
      "cell_type": "code",
      "source": [
        "import openai\n",
        "from openai import OpenAI\n",
        "\n",
        "client = OpenAI(\n",
        "  api_key='fill your Open AI API key')\n",
        "\n",
        "#  Function to encode text into OpenAI embeddings\n",
        "def encode_text_openai(text):\n",
        "    response = client.embeddings.create(input=text, model=\"text-embedding-3-large\")\n",
        "    return response.data[0].embedding\n",
        "\n",
        "# Encode documents\n",
        "# doc1_embedding_openai = encode_text_openai(output_stuff_txt[0])\n",
        "# doc2_embedding_openai = encode_text_openai(output_wthout_retrival_txt[0])\n",
        "manual_scrap_emb = encode_text_openai(manual_output)\n",
        "\n",
        "zer_sht_simp_emb = encode_text_openai(output_zer_sht_simp.content)\n",
        "zer_sht_dtail_emb = encode_text_openai(output_zer_sht_dtail.content)\n",
        "few_sht_simp_emb = encode_text_openai(output_few_sht_simp.content)\n",
        "few_sht_dtail_emb = encode_text_openai(output_few_sht_dtail.content)\n",
        "stuff_chain_emb = encode_text_openai(output_stuff_chain[\"answer\"])\n",
        "Refine_chain_emb = encode_text_openai(output_Refine_chain[\"answer\"])\n",
        "\n"
      ],
      "metadata": {
        "id": "d-N1-_3ARnOt"
      },
      "execution_count": null,
      "outputs": []
    },
    {
      "cell_type": "code",
      "source": [
        "manual_scrap_emb = encode_text_openai(manual_output)"
      ],
      "metadata": {
        "id": "X4dV7lqFRwiL"
      },
      "execution_count": null,
      "outputs": []
    },
    {
      "cell_type": "code",
      "source": [
        "def similarity_func(vec_1,vec_2):\n",
        "    vec_1_mag=np.linalg.norm(vec_1)\n",
        "    vec_2_mag=np.linalg.norm(vec_2)\n",
        "    output=(np.dot(vec_1, vec_2))/(vec_1_mag*vec_2_mag)\n",
        "    return output"
      ],
      "metadata": {
        "id": "2-jBndHrrci7"
      },
      "execution_count": null,
      "outputs": []
    },
    {
      "cell_type": "code",
      "source": [
        "import numpy as np\n",
        "similarity_func(zer_sht_simp_emb,manual_scrap_emb)"
      ],
      "metadata": {
        "colab": {
          "base_uri": "https://localhost:8080/"
        },
        "id": "OG9JER-wQ1iv",
        "outputId": "2419e246-234d-4379-dcba-87683077c938"
      },
      "execution_count": null,
      "outputs": [
        {
          "output_type": "execute_result",
          "data": {
            "text/plain": [
              "0.7954153582874908"
            ]
          },
          "metadata": {},
          "execution_count": 31
        }
      ]
    },
    {
      "cell_type": "code",
      "source": [
        "similarity_func(zer_sht_dtail_emb,manual_scrap_emb)"
      ],
      "metadata": {
        "colab": {
          "base_uri": "https://localhost:8080/"
        },
        "id": "TGxnXEqG5z_I",
        "outputId": "9357a4c0-a1c2-4019-846c-0dbd2fd3bd7c"
      },
      "execution_count": null,
      "outputs": [
        {
          "output_type": "execute_result",
          "data": {
            "text/plain": [
              "0.9648887797068172"
            ]
          },
          "metadata": {},
          "execution_count": 32
        }
      ]
    },
    {
      "cell_type": "code",
      "source": [
        "similarity_func(few_sht_simp_emb,manual_scrap_emb)"
      ],
      "metadata": {
        "colab": {
          "base_uri": "https://localhost:8080/"
        },
        "id": "IEK73vEv538_",
        "outputId": "119ece0c-867d-4ee7-b7ae-e6fb62cbe5f9"
      },
      "execution_count": null,
      "outputs": [
        {
          "output_type": "execute_result",
          "data": {
            "text/plain": [
              "0.8021759018131726"
            ]
          },
          "metadata": {},
          "execution_count": 33
        }
      ]
    },
    {
      "cell_type": "code",
      "source": [
        "similarity_func(few_sht_dtail_emb,manual_scrap_emb)"
      ],
      "metadata": {
        "colab": {
          "base_uri": "https://localhost:8080/"
        },
        "id": "OA7nstcJ6EyK",
        "outputId": "25a0cf69-1fe7-414f-ee2a-21f2ec085fe5"
      },
      "execution_count": null,
      "outputs": [
        {
          "output_type": "execute_result",
          "data": {
            "text/plain": [
              "0.9724721246398547"
            ]
          },
          "metadata": {},
          "execution_count": 34
        }
      ]
    },
    {
      "cell_type": "code",
      "source": [
        "similarity_func(stuff_chain_emb,manual_scrap_emb)"
      ],
      "metadata": {
        "colab": {
          "base_uri": "https://localhost:8080/"
        },
        "id": "sy9xsW4y6RFY",
        "outputId": "35ff0506-a9f0-4b1c-8df4-ca159d5a02a2"
      },
      "execution_count": null,
      "outputs": [
        {
          "output_type": "execute_result",
          "data": {
            "text/plain": [
              "0.9708412361639641"
            ]
          },
          "metadata": {},
          "execution_count": 35
        }
      ]
    },
    {
      "cell_type": "code",
      "source": [
        "similarity_func(Refine_chain_emb,manual_scrap_emb)"
      ],
      "metadata": {
        "colab": {
          "base_uri": "https://localhost:8080/"
        },
        "id": "s_ZujAI26US7",
        "outputId": "f8af790c-cd62-47f2-dd7f-3ab3e28a4836"
      },
      "execution_count": null,
      "outputs": [
        {
          "output_type": "execute_result",
          "data": {
            "text/plain": [
              "0.9558761840786402"
            ]
          },
          "metadata": {},
          "execution_count": 36
        }
      ]
    }
  ]
}